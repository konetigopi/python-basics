{
  "nbformat": 4,
  "nbformat_minor": 0,
  "metadata": {
    "colab": {
      "name": "Untitled31.ipynb",
      "provenance": []
    },
    "kernelspec": {
      "name": "python3",
      "display_name": "Python 3"
    },
    "language_info": {
      "name": "python"
    }
  },
  "cells": [
    {
      "cell_type": "code",
      "metadata": {
        "id": "mdYMH1IQDciX"
      },
      "source": [
        ""
      ],
      "execution_count": null,
      "outputs": []
    },
    {
      "cell_type": "code",
      "metadata": {
        "id": "Tydnyn_NLdN2"
      },
      "source": [
        "dictionary = {'a': ['bunny','sunny','ravi'], 'b':['apple', 'mango','gova']}"
      ],
      "execution_count": null,
      "outputs": []
    },
    {
      "cell_type": "code",
      "metadata": {
        "colab": {
          "base_uri": "https://localhost:8080/"
        },
        "id": "30Ujj_yh2Np-",
        "outputId": "2e7f8ea8-704d-4324-fbeb-5d4291fb6c5b"
      },
      "source": [
        "type(dictionary)"
      ],
      "execution_count": null,
      "outputs": [
        {
          "output_type": "execute_result",
          "data": {
            "text/plain": [
              "dict"
            ]
          },
          "metadata": {
            "tags": []
          },
          "execution_count": 10
        }
      ]
    },
    {
      "cell_type": "code",
      "metadata": {
        "id": "ScF2kQGI3c5-"
      },
      "source": [
        "# creating class variable human age\n",
        "class human:\n",
        "    name = None\n",
        "    age = None\n",
        "    def get_name(self):\n",
        "      print('enter your name')\n",
        "      self.name = input()\n",
        "    def get_age(self):\n",
        "      print('enter your age')\n",
        "      self.age = input()\n",
        "    def put_name(self):\n",
        "       print('your name is', self.name)\n",
        "    def put_age(self):\n",
        "       print('your age is ', self.age)\n",
        "person = human()          "
      ],
      "execution_count": null,
      "outputs": []
    },
    {
      "cell_type": "code",
      "metadata": {
        "colab": {
          "base_uri": "https://localhost:8080/"
        },
        "id": "Qd7zbyg45SBM",
        "outputId": "bc8c712d-2e53-409b-ac04-6cf6a3a684f9"
      },
      "source": [
        "person.get_name()\n"
      ],
      "execution_count": null,
      "outputs": [
        {
          "output_type": "stream",
          "text": [
            "enter your name\n",
            "GOPI\n"
          ],
          "name": "stdout"
        }
      ]
    },
    {
      "cell_type": "code",
      "metadata": {
        "colab": {
          "base_uri": "https://localhost:8080/"
        },
        "id": "BBWoR6EW5eh-",
        "outputId": "880fe40b-9f13-4226-82a4-46ea52ab37d3"
      },
      "source": [
        "person.get_age()"
      ],
      "execution_count": null,
      "outputs": [
        {
          "output_type": "stream",
          "text": [
            "enter your age\n",
            "25\n"
          ],
          "name": "stdout"
        }
      ]
    },
    {
      "cell_type": "code",
      "metadata": {
        "colab": {
          "base_uri": "https://localhost:8080/"
        },
        "id": "V7ZsCI5M5k1Z",
        "outputId": "2ca7e1a2-0274-46ff-b956-1078aa6ed9b7"
      },
      "source": [
        "person.put_name(), person.put_age()"
      ],
      "execution_count": null,
      "outputs": [
        {
          "output_type": "stream",
          "text": [
            "your name is GOPI\n",
            "your age is  25\n"
          ],
          "name": "stdout"
        },
        {
          "output_type": "execute_result",
          "data": {
            "text/plain": [
              "(None, None)"
            ]
          },
          "metadata": {
            "tags": []
          },
          "execution_count": 9
        }
      ]
    },
    {
      "cell_type": "code",
      "metadata": {
        "colab": {
          "base_uri": "https://localhost:8080/"
        },
        "id": "90iXw-EM7msB",
        "outputId": "1be5df48-b434-4e39-b927-4962565844de"
      },
      "source": [
        "import numpy as np\n",
        "a = np.array([1,2,3,4,5,6])\n",
        "a"
      ],
      "execution_count": null,
      "outputs": [
        {
          "output_type": "execute_result",
          "data": {
            "text/plain": [
              "array([1, 2, 3, 4, 5, 6])"
            ]
          },
          "metadata": {
            "tags": []
          },
          "execution_count": 11
        }
      ]
    },
    {
      "cell_type": "code",
      "metadata": {
        "colab": {
          "base_uri": "https://localhost:8080/"
        },
        "id": "EgLASRmd7zH7",
        "outputId": "dd7d4172-02a1-4a83-f8eb-034c339966f4"
      },
      "source": [
        "b = np.array([[1,2,3,4,5,6],[1,2,3,4,5,6]])\n",
        "b"
      ],
      "execution_count": null,
      "outputs": [
        {
          "output_type": "execute_result",
          "data": {
            "text/plain": [
              "array([[1, 2, 3, 4, 5, 6],\n",
              "       [1, 2, 3, 4, 5, 6]])"
            ]
          },
          "metadata": {
            "tags": []
          },
          "execution_count": 12
        }
      ]
    },
    {
      "cell_type": "code",
      "metadata": {
        "colab": {
          "base_uri": "https://localhost:8080/"
        },
        "id": "j3PTGU7x796A",
        "outputId": "a8a214eb-21f4-4dca-9e15-aad84002c28b"
      },
      "source": [
        "c = np.zeros((3,2))\n",
        "c"
      ],
      "execution_count": null,
      "outputs": [
        {
          "output_type": "execute_result",
          "data": {
            "text/plain": [
              "array([[0., 0.],\n",
              "       [0., 0.],\n",
              "       [0., 0.]])"
            ]
          },
          "metadata": {
            "tags": []
          },
          "execution_count": 13
        }
      ]
    },
    {
      "cell_type": "code",
      "metadata": {
        "colab": {
          "base_uri": "https://localhost:8080/"
        },
        "id": "N7n8WHGS8JjZ",
        "outputId": "0a37772a-84e1-45c6-fc81-b3ccd75f8dd5"
      },
      "source": [
        "np.sum((a,b), axis=0)"
      ],
      "execution_count": null,
      "outputs": [
        {
          "output_type": "stream",
          "text": [
            "/usr/local/lib/python3.7/dist-packages/numpy/core/fromnumeric.py:87: VisibleDeprecationWarning: Creating an ndarray from ragged nested sequences (which is a list-or-tuple of lists-or-tuples-or ndarrays with different lengths or shapes) is deprecated. If you meant to do this, you must specify 'dtype=object' when creating the ndarray\n",
            "  return ufunc.reduce(obj, axis, dtype, out, **passkwargs)\n"
          ],
          "name": "stderr"
        },
        {
          "output_type": "execute_result",
          "data": {
            "text/plain": [
              "array([[ 2,  4,  6,  8, 10, 12],\n",
              "       [ 2,  4,  6,  8, 10, 12]])"
            ]
          },
          "metadata": {
            "tags": []
          },
          "execution_count": 15
        }
      ]
    },
    {
      "cell_type": "code",
      "metadata": {
        "colab": {
          "base_uri": "https://localhost:8080/",
          "height": 234
        },
        "id": "EksNWtgw8rsN",
        "outputId": "3d7183a0-7021-4b4a-a712-dd6c0d62b1fc"
      },
      "source": [
        "## creating data frame from list\n",
        "import pandas as pd\n",
        "list = [1,2,3,4,5,6]\n",
        "data = pd.DataFrame(list)\n",
        "data"
      ],
      "execution_count": null,
      "outputs": [
        {
          "output_type": "execute_result",
          "data": {
            "text/html": [
              "<div>\n",
              "<style scoped>\n",
              "    .dataframe tbody tr th:only-of-type {\n",
              "        vertical-align: middle;\n",
              "    }\n",
              "\n",
              "    .dataframe tbody tr th {\n",
              "        vertical-align: top;\n",
              "    }\n",
              "\n",
              "    .dataframe thead th {\n",
              "        text-align: right;\n",
              "    }\n",
              "</style>\n",
              "<table border=\"1\" class=\"dataframe\">\n",
              "  <thead>\n",
              "    <tr style=\"text-align: right;\">\n",
              "      <th></th>\n",
              "      <th>0</th>\n",
              "    </tr>\n",
              "  </thead>\n",
              "  <tbody>\n",
              "    <tr>\n",
              "      <th>0</th>\n",
              "      <td>1</td>\n",
              "    </tr>\n",
              "    <tr>\n",
              "      <th>1</th>\n",
              "      <td>2</td>\n",
              "    </tr>\n",
              "    <tr>\n",
              "      <th>2</th>\n",
              "      <td>3</td>\n",
              "    </tr>\n",
              "    <tr>\n",
              "      <th>3</th>\n",
              "      <td>4</td>\n",
              "    </tr>\n",
              "    <tr>\n",
              "      <th>4</th>\n",
              "      <td>5</td>\n",
              "    </tr>\n",
              "    <tr>\n",
              "      <th>5</th>\n",
              "      <td>6</td>\n",
              "    </tr>\n",
              "  </tbody>\n",
              "</table>\n",
              "</div>"
            ],
            "text/plain": [
              "   0\n",
              "0  1\n",
              "1  2\n",
              "2  3\n",
              "3  4\n",
              "4  5\n",
              "5  6"
            ]
          },
          "metadata": {
            "tags": []
          },
          "execution_count": 18
        }
      ]
    },
    {
      "cell_type": "code",
      "metadata": {
        "colab": {
          "base_uri": "https://localhost:8080/",
          "height": 142
        },
        "id": "s-kt1QqG-G5S",
        "outputId": "7fc82616-1cd6-40b7-c0f8-b376322b68c6"
      },
      "source": [
        "data1 = pd.DataFrame(dictionary)\n",
        "data1"
      ],
      "execution_count": null,
      "outputs": [
        {
          "output_type": "execute_result",
          "data": {
            "text/html": [
              "<div>\n",
              "<style scoped>\n",
              "    .dataframe tbody tr th:only-of-type {\n",
              "        vertical-align: middle;\n",
              "    }\n",
              "\n",
              "    .dataframe tbody tr th {\n",
              "        vertical-align: top;\n",
              "    }\n",
              "\n",
              "    .dataframe thead th {\n",
              "        text-align: right;\n",
              "    }\n",
              "</style>\n",
              "<table border=\"1\" class=\"dataframe\">\n",
              "  <thead>\n",
              "    <tr style=\"text-align: right;\">\n",
              "      <th></th>\n",
              "      <th>a</th>\n",
              "      <th>b</th>\n",
              "    </tr>\n",
              "  </thead>\n",
              "  <tbody>\n",
              "    <tr>\n",
              "      <th>0</th>\n",
              "      <td>bunny</td>\n",
              "      <td>apple</td>\n",
              "    </tr>\n",
              "    <tr>\n",
              "      <th>1</th>\n",
              "      <td>sunny</td>\n",
              "      <td>mango</td>\n",
              "    </tr>\n",
              "    <tr>\n",
              "      <th>2</th>\n",
              "      <td>ravi</td>\n",
              "      <td>gova</td>\n",
              "    </tr>\n",
              "  </tbody>\n",
              "</table>\n",
              "</div>"
            ],
            "text/plain": [
              "       a      b\n",
              "0  bunny  apple\n",
              "1  sunny  mango\n",
              "2   ravi   gova"
            ]
          },
          "metadata": {
            "tags": []
          },
          "execution_count": 19
        }
      ]
    },
    {
      "cell_type": "code",
      "metadata": {
        "colab": {
          "base_uri": "https://localhost:8080/"
        },
        "id": "_Ai6lkOE-0i9",
        "outputId": "43136a73-4164-402e-c59a-ed06cf1f30a1"
      },
      "source": [
        "dist1 = {'d':('ravi', 'murali'),'p':('siva','suma')}\n",
        "type(dist1)"
      ],
      "execution_count": null,
      "outputs": [
        {
          "output_type": "execute_result",
          "data": {
            "text/plain": [
              "dict"
            ]
          },
          "metadata": {
            "tags": []
          },
          "execution_count": 7
        }
      ]
    },
    {
      "cell_type": "code",
      "metadata": {
        "colab": {
          "base_uri": "https://localhost:8080/"
        },
        "id": "xKmdTJEtjtBA",
        "outputId": "862ad2dc-131c-4ee1-f303-40e6f1c18a07"
      },
      "source": [
        "t1 = {1,2,3,4,5,7,7,9}\n",
        "type(t1)\n"
      ],
      "execution_count": null,
      "outputs": [
        {
          "output_type": "execute_result",
          "data": {
            "text/plain": [
              "set"
            ]
          },
          "metadata": {
            "tags": []
          },
          "execution_count": 14
        }
      ]
    },
    {
      "cell_type": "code",
      "metadata": {
        "colab": {
          "base_uri": "https://localhost:8080/"
        },
        "id": "D0iHNsyDlCUT",
        "outputId": "0ae9cb7e-0b12-4090-d611-17b9da17f549"
      },
      "source": [
        "### fibonaki generator \n",
        "def fib_gen():\n",
        "  a =0\n",
        "  b =1\n",
        "  while  True:\n",
        "    c = a\n",
        "    a = b\n",
        "    c = c+a\n",
        "    yield c\n",
        "\n",
        "\n",
        "f = fib_gen()\n",
        "for i in range(20):\n",
        "  print(next(f),end='')\n"
      ],
      "execution_count": null,
      "outputs": [
        {
          "output_type": "stream",
          "text": [
            "12222222222222222222"
          ],
          "name": "stdout"
        }
      ]
    },
    {
      "cell_type": "code",
      "metadata": {
        "colab": {
          "base_uri": "https://localhost:8080/"
        },
        "id": "y6Ao6WuuDdwE",
        "outputId": "34029278-d9eb-4a7e-d564-6a725ed0e54b"
      },
      "source": [
        "print('        /' )\n",
        "print('       /  ' )\n",
        "print('      /    ' )\n",
        "print('     /      ' )\n",
        "print('    /        ' )\n",
        "print('   /___________' )"
      ],
      "execution_count": null,
      "outputs": [
        {
          "output_type": "stream",
          "text": [
            "        /\n",
            "       /  \n",
            "      /    \n",
            "     /      \n",
            "    /        \n",
            "   /___________\n"
          ],
          "name": "stdout"
        }
      ]
    },
    {
      "cell_type": "code",
      "metadata": {
        "colab": {
          "base_uri": "https://localhost:8080/"
        },
        "id": "VSKyrC7OFlNw",
        "outputId": "1fe892cd-579b-4edf-8c75-14af2adf4809"
      },
      "source": [
        "# creating variables\n",
        "name = 6\n",
        "frinds = 'twonty'\n",
        "age = 55\n",
        "\n",
        "print( name,'is good guy')\n",
        "print('he has a',frinds, 'frinds')\n",
        "print('age of each one is aproxmitly',age)\n",
        "print('they all are fight each other every time so may peoples are complaint')"
      ],
      "execution_count": null,
      "outputs": [
        {
          "output_type": "stream",
          "text": [
            "6 is good guy\n",
            "he has a twonty frinds\n",
            "age of each one is aproxmitly 55\n",
            "they all are fight each other every time so may peoples are complaint\n"
          ],
          "name": "stdout"
        }
      ]
    },
    {
      "cell_type": "code",
      "metadata": {
        "colab": {
          "base_uri": "https://localhost:8080/"
        },
        "id": "qveuCJTeKve5",
        "outputId": "c65305f0-b4ca-487d-df3d-99433fdb3a4c"
      },
      "source": [
        "sam = 'solution \\naccount'\n",
        "print(sam.upper())"
      ],
      "execution_count": null,
      "outputs": [
        {
          "output_type": "stream",
          "text": [
            "SOLUTION \n",
            "ACCOUNT\n"
          ],
          "name": "stdout"
        }
      ]
    },
    {
      "cell_type": "code",
      "metadata": {
        "colab": {
          "base_uri": "https://localhost:8080/"
        },
        "id": "gw1-e3wLMS72",
        "outputId": "705a9ce0-a987-4fab-a8a2-99dfe82c66b4"
      },
      "source": [
        "print(sam[0])"
      ],
      "execution_count": null,
      "outputs": [
        {
          "output_type": "stream",
          "text": [
            "s\n"
          ],
          "name": "stdout"
        }
      ]
    },
    {
      "cell_type": "code",
      "metadata": {
        "colab": {
          "base_uri": "https://localhost:8080/"
        },
        "id": "XZzICYnfM9tt",
        "outputId": "7859fd5a-b74f-4102-eede-badb2762c4b9"
      },
      "source": [
        "print(sam.replace('solution', 'prime'))"
      ],
      "execution_count": null,
      "outputs": [
        {
          "output_type": "stream",
          "text": [
            "prime \n",
            "account\n"
          ],
          "name": "stdout"
        }
      ]
    },
    {
      "cell_type": "code",
      "metadata": {
        "colab": {
          "base_uri": "https://localhost:8080/"
        },
        "id": "ezoHVY0TM9bL",
        "outputId": "8136ca4a-6b41-4575-b6b6-b1b37a886725"
      },
      "source": [
        "int1 = input('enter numbe')\n",
        "int2 = input('entr numbr')\n",
        "result = int(int1) + int(int2)\n",
        "print(result)"
      ],
      "execution_count": null,
      "outputs": [
        {
          "output_type": "stream",
          "text": [
            "enter numbe20\n",
            "entr numbr22\n",
            "42\n"
          ],
          "name": "stdout"
        }
      ]
    },
    {
      "cell_type": "code",
      "metadata": {
        "colab": {
          "base_uri": "https://localhost:8080/"
        },
        "id": "4QZUYDE4PWWo",
        "outputId": "3280da23-1c41-48d4-c869-eac1ea61e91b"
      },
      "source": [
        "## creating general calculator using if elis statement \n",
        "\n",
        "num1 = float(input('Enter First number:'))\n",
        "op = input('enter operator:')\n",
        "num2 = float(input('enter second number:'))\n",
        "\n",
        "if op == '+':\n",
        "  print(num1 + num2)\n",
        "elif op == '-':\n",
        "  print(num1 - num2)\n",
        "elif op == '/':\n",
        "  print(num1/num2)\n",
        "elif op == '*':\n",
        "  print(num1 * num2) \n",
        "else:\n",
        "  print('invalied operater')       \n"
      ],
      "execution_count": null,
      "outputs": [
        {
          "output_type": "stream",
          "text": [
            "Enter First number:10\n",
            "enter operator:*\n",
            "enter second number:10\n",
            "100.0\n"
          ],
          "name": "stdout"
        }
      ]
    },
    {
      "cell_type": "code",
      "metadata": {
        "colab": {
          "base_uri": "https://localhost:8080/"
        },
        "id": "tN1BEXIaSsiF",
        "outputId": "d5cfcc10-8664-40e0-baf6-a5e83befbe5c"
      },
      "source": [
        "## creating general calculator using if elis statement \n",
        "\n",
        "num1 = float(input('Enter First number:'))\n",
        "op = input('enter operator:')\n",
        "num2 = float(input('enter second number:'))\n",
        "\n",
        "if op == '+':\n",
        "  print(num1 + num2)\n",
        "elif op == '-':\n",
        "  print(num1 - num2)\n",
        "elif op == '/':\n",
        "  print(num1/num2)\n",
        "elif op == '*':\n",
        "  print(num1 * num2) \n",
        "else:\n",
        "  print('invalied operater') "
      ],
      "execution_count": null,
      "outputs": [
        {
          "output_type": "stream",
          "text": [
            "Enter First number:46\n",
            "enter operator:=\n",
            "enter second number:34\n",
            "invalied operater\n"
          ],
          "name": "stdout"
        }
      ]
    },
    {
      "cell_type": "code",
      "metadata": {
        "colab": {
          "base_uri": "https://localhost:8080/"
        },
        "id": "bn5VLwL6SyUH",
        "outputId": "f3fdfffc-7368-4c62-fa58-eec65d058c25"
      },
      "source": [
        "##boolean expression using if else\n",
        "is_male= True\n",
        "is_tall = False\n",
        "is_black = True\n",
        "\n",
        "if is_male and is_tall:\n",
        "  print('your a tall mail')\n",
        "elif is_male == False and is_tall:\n",
        "  print('your not a male but your tall')\n",
        "elif is_male and not (is_tall):\n",
        "  print('your male but your not tall')\n",
        "else:\n",
        "  print('your not a male and tall')  \n",
        "\n"
      ],
      "execution_count": null,
      "outputs": [
        {
          "output_type": "stream",
          "text": [
            "your male but your not tall\n"
          ],
          "name": "stdout"
        }
      ]
    },
    {
      "cell_type": "code",
      "metadata": {
        "id": "3nQ4Mh_Vun1b",
        "colab": {
          "base_uri": "https://localhost:8080/"
        },
        "outputId": "59094b8f-7538-4aa3-9ef6-9dbc6f5ddc52"
      },
      "source": [
        "## comparing statement\n",
        "def max_num(num1, num2, num3, num4):\n",
        "  if num1 >= num2 and num1 >= num3 and num1 >= num4:\n",
        "    return num1\n",
        "  elif num2 >= num1 and num2 >= num3 and num2 >= num4:\n",
        "    return num2\n",
        "  elif num3 >= num1 and num3 >= num2 and num3 >= num4:\n",
        "    return num3\n",
        "  else:\n",
        "    return num4\n",
        "\n",
        "max_num( 12,451,34,67)"
      ],
      "execution_count": null,
      "outputs": [
        {
          "output_type": "execute_result",
          "data": {
            "text/plain": [
              "451"
            ]
          },
          "metadata": {
            "tags": []
          },
          "execution_count": 17
        }
      ]
    },
    {
      "cell_type": "code",
      "metadata": {
        "colab": {
          "base_uri": "https://localhost:8080/"
        },
        "id": "dKddfnFI3vxw",
        "outputId": "47a7c178-8c28-4906-bcaf-12701fad5345"
      },
      "source": [
        "num1 = input('please enter num1:')\n",
        "num2 = input('please enter num2:')\n",
        "num3 = input('please enter num3:')\n",
        "\n",
        "if num1 >= num2 and num1 >= num3:\n",
        "  print('num1 is hight', num1)\n",
        "elif num2 >= num1 and num2 >= num3:\n",
        "  print('num2 is high',num2)  \n",
        "else:\n",
        "  print('num3 is high', num3)  "
      ],
      "execution_count": null,
      "outputs": [
        {
          "output_type": "stream",
          "text": [
            "please enter num1:96\n",
            "please enter num2:66\n",
            "please enter num3:77\n",
            "num1 is hight 96\n"
          ],
          "name": "stdout"
        }
      ]
    },
    {
      "cell_type": "code",
      "metadata": {
        "colab": {
          "base_uri": "https://localhost:8080/"
        },
        "id": "eH_TStOLBic3",
        "outputId": "5305f7e9-bb5f-44b2-a703-465899baaf39"
      },
      "source": [
        "## working with while loop\n",
        "\n",
        "i = 1\n",
        "while i<= 9:\n",
        "  print(i)\n",
        "  i +=1\n"
      ],
      "execution_count": null,
      "outputs": [
        {
          "output_type": "stream",
          "text": [
            "1\n",
            "2\n",
            "3\n",
            "4\n",
            "5\n",
            "6\n",
            "7\n",
            "8\n",
            "9\n"
          ],
          "name": "stdout"
        }
      ]
    },
    {
      "cell_type": "code",
      "metadata": {
        "colab": {
          "base_uri": "https://localhost:8080/"
        },
        "id": "92r37-3Ol7Um",
        "outputId": "2a4b1159-9c0e-4f97-e980-282f4e07a6c0"
      },
      "source": [
        "### USING while create a guess game\n",
        "\n",
        "my_word = 'krishna'\n",
        "guess = ''\n",
        "\n",
        "while guess != my_word:\n",
        "  guess = input('Enter secret word: ')\n",
        "  if guess != my_word:\n",
        "    print('you failed please try again.!')\n",
        " \n",
        "print('you win.!')  "
      ],
      "execution_count": null,
      "outputs": [
        {
          "output_type": "stream",
          "text": [
            "Enter secret word: hoi\n",
            "you failed\n",
            "Enter secret word: hufr\n",
            "you failed\n",
            "Enter secret word: krishna\n",
            "you win.!\n"
          ],
          "name": "stdout"
        }
      ]
    },
    {
      "cell_type": "code",
      "metadata": {
        "colab": {
          "base_uri": "https://localhost:8080/"
        },
        "id": "RfL8n36IoY8F",
        "outputId": "9c91fb30-4c42-4204-c625-020af080db76"
      },
      "source": [
        "## guess game advanced one\n",
        "my_word = 'krishna'\n",
        "guess = ''\n",
        "guess_count = 0\n",
        "guess_limit = 2\n",
        "\n",
        "out_of_guesses = False\n",
        "\n",
        "while guess != my_word and not (out_of_guesses):\n",
        "  if guess_count <= guess_limit:\n",
        "    print('you have guesses')\n",
        "    guess = input('Enter secret word: ')\n",
        "    guess_count += 1\n",
        "    \n",
        "  else:\n",
        "    out_of_guesses =True\n",
        "   \n",
        "if out_of_guesses:\n",
        "  print('there is no guesses')\n",
        "else:\n",
        "  print('you win.!')  "
      ],
      "execution_count": null,
      "outputs": [
        {
          "output_type": "stream",
          "text": [
            "you have guesses\n",
            "Enter secret word: kfjyi\n",
            "you have guesses\n",
            "Enter secret word: jduth\n",
            "you have guesses\n",
            "Enter secret word: krishna\n",
            "you win.!\n"
          ],
          "name": "stdout"
        }
      ]
    },
    {
      "cell_type": "code",
      "metadata": {
        "colab": {
          "base_uri": "https://localhost:8080/"
        },
        "id": "yPBXGKfS7ea9",
        "outputId": "2f3f9574-678b-45ef-cd91-349d702231d3"
      },
      "source": [
        "# creating guesss number\n",
        "my_number = '1234'\n",
        "guess = ''\n",
        "while guess != my_number:\n",
        "  guess = input('enter guess number:')\n",
        "\n",
        "print('you won')  "
      ],
      "execution_count": null,
      "outputs": [
        {
          "output_type": "stream",
          "text": [
            "enter guess number:33\n",
            "enter guess number:1234\n",
            "you won\n"
          ],
          "name": "stdout"
        }
      ]
    },
    {
      "cell_type": "code",
      "metadata": {
        "colab": {
          "base_uri": "https://localhost:8080/"
        },
        "id": "FxL2rGqb86fk",
        "outputId": "4e3c207d-dace-44de-85be-7bc4bffc58e7"
      },
      "source": [
        "list = ['apple', 'orange', 'banana','past', 'drink', 'monkey']\n",
        "\n",
        "for x in list:\n",
        "  print(x)"
      ],
      "execution_count": null,
      "outputs": [
        {
          "output_type": "stream",
          "text": [
            "apple\n",
            "orange\n",
            "banana\n",
            "past\n",
            "drink\n",
            "monkey\n"
          ],
          "name": "stdout"
        }
      ]
    },
    {
      "cell_type": "code",
      "metadata": {
        "colab": {
          "base_uri": "https://localhost:8080/"
        },
        "id": "z08-HyhX9pxP",
        "outputId": "8c4936e1-6445-4c92-fe57-a687800df84f"
      },
      "source": [
        "for x in list:\n",
        "  print(x)\n",
        "  if x == 'past':\n",
        "    break\n"
      ],
      "execution_count": null,
      "outputs": [
        {
          "output_type": "stream",
          "text": [
            "apple\n",
            "orange\n",
            "banana\n",
            "past\n"
          ],
          "name": "stdout"
        }
      ]
    },
    {
      "cell_type": "code",
      "metadata": {
        "colab": {
          "base_uri": "https://localhost:8080/"
        },
        "id": "DJdGBdrU-K0B",
        "outputId": "a4d10c3e-f46c-40b6-e47d-60bc95ee2458"
      },
      "source": [
        "for x in list:\n",
        "  if x == 'banana':\n",
        "    break\n",
        "  print(x)"
      ],
      "execution_count": null,
      "outputs": [
        {
          "output_type": "stream",
          "text": [
            "apple\n",
            "orange\n"
          ],
          "name": "stdout"
        }
      ]
    },
    {
      "cell_type": "code",
      "metadata": {
        "colab": {
          "base_uri": "https://localhost:8080/"
        },
        "id": "huazpOHi-8LW",
        "outputId": "815195db-0574-417d-85ad-7502bb9a5cad"
      },
      "source": [
        "for x in list:\n",
        "  if x == \"banana\":\n",
        "    continue\n",
        "  print(x)"
      ],
      "execution_count": null,
      "outputs": [
        {
          "output_type": "stream",
          "text": [
            "apple\n",
            "orange\n",
            "past\n",
            "drink\n",
            "monkey\n"
          ],
          "name": "stdout"
        }
      ]
    },
    {
      "cell_type": "code",
      "metadata": {
        "colab": {
          "base_uri": "https://localhost:8080/"
        },
        "id": "Tcobr37z_EG5",
        "outputId": "a34e1cdd-26fc-4ba2-a79d-96559b390e3b"
      },
      "source": [
        "for x in range(6):\n",
        "  print(x)"
      ],
      "execution_count": null,
      "outputs": [
        {
          "output_type": "stream",
          "text": [
            "0\n",
            "1\n",
            "2\n",
            "3\n",
            "4\n",
            "5\n"
          ],
          "name": "stdout"
        }
      ]
    },
    {
      "cell_type": "code",
      "metadata": {
        "colab": {
          "base_uri": "https://localhost:8080/"
        },
        "id": "_1b-QmTD_1rn",
        "outputId": "b1cb40f6-9ba7-43b9-8a15-8c6d2b2e503f"
      },
      "source": [
        "###function\n",
        "def my_function():\n",
        "  print('this is not so easy')\n",
        "\n",
        "my_function()  "
      ],
      "execution_count": null,
      "outputs": [
        {
          "output_type": "stream",
          "text": [
            "this is not so easy\n"
          ],
          "name": "stdout"
        }
      ]
    },
    {
      "cell_type": "code",
      "metadata": {
        "colab": {
          "base_uri": "https://localhost:8080/"
        },
        "id": "-asLud_vAfzk",
        "outputId": "53eb1c3c-a092-4c0d-ca8c-34c36805c5f1"
      },
      "source": [
        "def details(name, mail, number):\n",
        "  print('full name is', name)\n",
        "  print('gmail id is ', mail)\n",
        "  print('contact number is ',number)\n",
        "\n",
        "  \n",
        "details('gopi', 'konetigopi61@gmail.com', '0899722802')  "
      ],
      "execution_count": null,
      "outputs": [
        {
          "output_type": "stream",
          "text": [
            "full name is gopi\n",
            "gmail id is  konetigopi61@gmail.com\n",
            "contact number is  0899722802\n"
          ],
          "name": "stdout"
        }
      ]
    },
    {
      "cell_type": "code",
      "metadata": {
        "colab": {
          "base_uri": "https://localhost:8080/"
        },
        "id": "3uTR1qS0CT8y",
        "outputId": "5445f673-547f-4983-ccf8-5bbcbf7cab38"
      },
      "source": [
        "def my_function(country = \"Norway\"):\n",
        "  print(\"I am from \" + country)\n",
        "\n",
        "my_function(\"Sweden\")\n",
        "my_function(\"India\")\n",
        "my_function()\n",
        "my_function(\"Brazil\")"
      ],
      "execution_count": null,
      "outputs": [
        {
          "output_type": "stream",
          "text": [
            "I am from Sweden\n",
            "I am from India\n",
            "I am from Norway\n",
            "I am from Brazil\n"
          ],
          "name": "stdout"
        }
      ]
    },
    {
      "cell_type": "code",
      "metadata": {
        "colab": {
          "base_uri": "https://localhost:8080/"
        },
        "id": "9J1RxkzUC2IQ",
        "outputId": "06cfa784-9400-46d8-835d-2d49497d42db"
      },
      "source": [
        "def my_food( food):\n",
        "  for x in food:\n",
        "    print(x)\n",
        "my_food(list)    "
      ],
      "execution_count": null,
      "outputs": [
        {
          "output_type": "stream",
          "text": [
            "apple\n",
            "orange\n",
            "banana\n",
            "past\n",
            "drink\n",
            "monkey\n"
          ],
          "name": "stdout"
        }
      ]
    },
    {
      "cell_type": "code",
      "metadata": {
        "id": "FgbxToB3JZ6h"
      },
      "source": [
        ""
      ],
      "execution_count": null,
      "outputs": []
    }
  ]
}